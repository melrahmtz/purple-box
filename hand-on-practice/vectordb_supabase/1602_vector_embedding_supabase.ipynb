{
  "cells": [
    {
      "cell_type": "markdown",
      "metadata": {
        "id": "view-in-github",
        "colab_type": "text"
      },
      "source": [
        "<a href=\"https://colab.research.google.com/github/melrahmtz/purple-box/blob/main/hand-on-practice/vectordb_supabase/1602_vector_embedding_supabase.ipynb\" target=\"_parent\"><img src=\"https://colab.research.google.com/assets/colab-badge.svg\" alt=\"Open In Colab\"/></a>"
      ]
    },
    {
      "cell_type": "code",
      "execution_count": null,
      "metadata": {
        "id": "AKE2d8-vdx4P",
        "outputId": "fad2a0ce-baba-414f-ea6c-e98d51cd1bf8"
      },
      "outputs": [
        {
          "name": "stderr",
          "output_type": "stream",
          "text": [
            "\n",
            "[notice] A new release of pip is available: 24.3.1 -> 25.0.1\n",
            "[notice] To update, run: python.exe -m pip install --upgrade pip\n",
            "\n",
            "[notice] A new release of pip is available: 24.3.1 -> 25.0.1\n",
            "[notice] To update, run: python.exe -m pip install --upgrade pip\n",
            "\n",
            "[notice] A new release of pip is available: 24.3.1 -> 25.0.1\n",
            "[notice] To update, run: python.exe -m pip install --upgrade pip\n",
            "\n",
            "[notice] A new release of pip is available: 24.3.1 -> 25.0.1\n",
            "[notice] To update, run: python.exe -m pip install --upgrade pip\n",
            "\n",
            "[notice] A new release of pip is available: 24.3.1 -> 25.0.1\n",
            "[notice] To update, run: python.exe -m pip install --upgrade pip\n",
            "\n",
            "[notice] A new release of pip is available: 24.3.1 -> 25.0.1\n",
            "[notice] To update, run: python.exe -m pip install --upgrade pip\n",
            "\n",
            "[notice] A new release of pip is available: 24.3.1 -> 25.0.1\n",
            "[notice] To update, run: python.exe -m pip install --upgrade pip\n"
          ]
        }
      ],
      "source": [
        "!pip install python-dotenv --quiet\n",
        "!pip install langchain --quiet\n",
        "!pip install supabase --quiet\n",
        "!pip install tiktoken --quiet\n",
        "!pip install unstructured --quiet\n",
        "!pip install numpy --quiet\n",
        "!pip install transformers --quiet\n"
      ]
    },
    {
      "cell_type": "code",
      "execution_count": null,
      "metadata": {
        "id": "tbTL2piDdx4U"
      },
      "outputs": [],
      "source": [
        "from dotenv import load_dotenv, find_dotenv\n",
        "\n",
        "_ = load_dotenv(find_dotenv())"
      ]
    },
    {
      "cell_type": "code",
      "execution_count": null,
      "metadata": {
        "id": "tc0eddltdx4V"
      },
      "outputs": [],
      "source": [
        "import os\n",
        "import numpy\n",
        "from supabase.client import Client, create_client\n",
        "from langchain.vectorstores import SupabaseVectorStore\n",
        "from langchain_community.embeddings import HuggingFaceEmbeddings\n",
        "\n",
        "openai_key  = os.environ['OPENAI_API_KEY']\n",
        "supabase_url = os.environ.get(\"SUPABASE_URL\")\n",
        "supabase_key = os.environ.get(\"SUPABASE_SERVICE_KEY\")\n",
        "supabase: Client = create_client(supabase_url, supabase_key)\n",
        "\n",
        "embeddings = HuggingFaceEmbeddings(model_name=\"sentence-transformers/all-MiniLM-L6-v2\")"
      ]
    },
    {
      "cell_type": "code",
      "execution_count": null,
      "metadata": {
        "id": "EKgMotFMdx4W",
        "outputId": "bd124721-c2b5-44da-d120-dab27e2344dd"
      },
      "outputs": [
        {
          "name": "stdout",
          "output_type": "stream",
          "text": [
            "Loaded 40 chunks\n"
          ]
        }
      ],
      "source": [
        "from langchain_community.document_loaders import TextLoader\n",
        "from langchain.text_splitter import MarkdownTextSplitter\n",
        "\n",
        "# Load the Markdown file\n",
        "markdown_path = \"PDF1(updated).md\"  # Replace with your file path\n",
        "loader = TextLoader(markdown_path)\n",
        "documents = loader.load()\n",
        "\n",
        "# Split the document into chunks using MarkdownTextSplitter\n",
        "text_splitter = MarkdownTextSplitter(chunk_size=2048, chunk_overlap=600) # Experience with the chunk_size and chunk_overlap\n",
        "docs = text_splitter.split_documents(documents)\n",
        "\n",
        "print(f\"Loaded {len(docs)} chunks\")\n"
      ]
    },
    {
      "cell_type": "code",
      "execution_count": null,
      "metadata": {
        "id": "sbdjA_sfdx4W"
      },
      "outputs": [],
      "source": [
        "vector_store = SupabaseVectorStore.from_documents(\n",
        "    docs,\n",
        "    embeddings,\n",
        "    client=supabase,\n",
        "    table_name=\"documents\",\n",
        "    query_name=\"match_documents\",\n",
        "    chunk_size=500,\n",
        ")"
      ]
    },
    {
      "cell_type": "code",
      "execution_count": null,
      "metadata": {
        "id": "uhW7f2x7dx4W",
        "outputId": "83256687-5ec8-47c6-948d-8706efeeaee7"
      },
      "outputs": [
        {
          "name": "stdout",
          "output_type": "stream",
          "text": [
            "The latter sections present a more sophisticated method of processing the sentiment score, with supporting results provided.\n",
            "\n",
            "Figure 1 presents a sample distribution of calculated sentiment scores, showing a notable negative skew.\n",
            "\n",
            "Figure 1: Distribution of Sentiment Scores\n",
            "\n",
            "![Image](/content/markdown/PDF1_artifacts/image_000000_76f7bf71b5ee016569038b353d497dbab4ece2118c183a487e21be8cd18ca35c.png)\n",
            "\n",
            "*Image Description:* The image shows a histogram with the title \"Distribution of Sentiment Scores.\" The x-axis represents sentiment scores, ranging from -1.0 to 1.0, with a range of 1,000 points each. The y-axis shows the frequency of sentiment scores, ranging from -1,000 to 0, with a scale from 0 to 1,985, which indicates a total of 1,885 points. \n",
            "\n",
            "A prominent blue bar extends vertically most heavily, touching the sentiment score of 0.000, indicating it is the most frequent sentiment score in this histogram. Other smaller bars correspond to various sentiment scores, some reaching up to 0.005, and a few touching the negatives. The histogram suggests a mixture of positive and negative sentiment scores across the board, with the central peak being the highest score on the scale.\n",
            "\n",
            "This serves as a motivation for adjusting bias weights, as discussed in Section 3.2, which account for market 'hypes' and form the basis for the proposed hype-adjusted probability measure. Bias weights are adjusted to correct for distortions such as excessive coverage of certain stocks and underrepresentation of others. These adjustments ensure a more objective and balanced assessment of market dynamics. Without such corrections, the analysis may disproportionately emphasize certain stocks or news sources, resulting in skewed forecasts or inaccurate conclusions.\n",
            "\n",
            "## 3.2 Bias, Memory, and Weights\n"
          ]
        }
      ],
      "source": [
        "#query = \"What is Sentiment Analysis\"\n",
        "#query = \"What is the accuracy of the LDA model when using the \\\"daily weighted average\\\" sentiment score?\"\n",
        "query = \"What is the characteristic of the sentiment score distribution?\"\n",
        "\n",
        "matched_docs = vector_store.similarity_search(query)\n",
        "print(matched_docs[0].page_content)"
      ]
    },
    {
      "cell_type": "code",
      "execution_count": null,
      "metadata": {
        "id": "384c2FZ_dx4X",
        "outputId": "5d0ef686-8232-4e2d-a961-698a4583a617"
      },
      "outputs": [
        {
          "data": {
            "text/plain": [
              "(Document(metadata={'source': 'PDF1(updated).md'}, page_content='The latter sections present a more sophisticated method of processing the sentiment score, with supporting results provided.\\n\\nFigure 1 presents a sample distribution of calculated sentiment scores, showing a notable negative skew.\\n\\nFigure 1: Distribution of Sentiment Scores\\n\\n![Image](/content/markdown/PDF1_artifacts/image_000000_76f7bf71b5ee016569038b353d497dbab4ece2118c183a487e21be8cd18ca35c.png)\\n\\n*Image Description:* The image shows a histogram with the title \"Distribution of Sentiment Scores.\" The x-axis represents sentiment scores, ranging from -1.0 to 1.0, with a range of 1,000 points each. The y-axis shows the frequency of sentiment scores, ranging from -1,000 to 0, with a scale from 0 to 1,985, which indicates a total of 1,885 points. \\n\\nA prominent blue bar extends vertically most heavily, touching the sentiment score of 0.000, indicating it is the most frequent sentiment score in this histogram. Other smaller bars correspond to various sentiment scores, some reaching up to 0.005, and a few touching the negatives. The histogram suggests a mixture of positive and negative sentiment scores across the board, with the central peak being the highest score on the scale.\\n\\nThis serves as a motivation for adjusting bias weights, as discussed in Section 3.2, which account for market \\'hypes\\' and form the basis for the proposed hype-adjusted probability measure. Bias weights are adjusted to correct for distortions such as excessive coverage of certain stocks and underrepresentation of others. These adjustments ensure a more objective and balanced assessment of market dynamics. Without such corrections, the analysis may disproportionately emphasize certain stocks or news sources, resulting in skewed forecasts or inaccurate conclusions.\\n\\n## 3.2 Bias, Memory, and Weights'),\n",
              " 0.669792314463625)"
            ]
          },
          "execution_count": 50,
          "metadata": {},
          "output_type": "execute_result"
        }
      ],
      "source": [
        "# Similarity Search with Scores\n",
        "\n",
        "matched_docs = vector_store.similarity_search_with_relevance_scores(query)\n",
        "matched_docs[0]"
      ]
    },
    {
      "cell_type": "code",
      "execution_count": null,
      "metadata": {
        "id": "2rViON3Adx4X",
        "outputId": "aed532ed-13bf-4f58-ed15-b96cf2282d86"
      },
      "outputs": [
        {
          "name": "stdout",
          "output_type": "stream",
          "text": [
            "Query embedding size: 384\n"
          ]
        }
      ],
      "source": [
        "query_embedding = embeddings.embed_query(\"Test query\")\n",
        "print(f\"Query embedding size: {len(query_embedding)}\")\n"
      ]
    },
    {
      "cell_type": "code",
      "execution_count": null,
      "metadata": {
        "id": "9F5BguJ-dx4X",
        "outputId": "7660f17a-da5a-4b89-f14d-ff17ee3ed131"
      },
      "outputs": [
        {
          "ename": "ValueError",
          "evalue": "Number of columns in X and Y must be the same. X has shape (1, 384) and Y has shape (20, 0).",
          "output_type": "error",
          "traceback": [
            "\u001b[1;31m---------------------------------------------------------------------------\u001b[0m",
            "\u001b[1;31mValueError\u001b[0m                                Traceback (most recent call last)",
            "Cell \u001b[1;32mIn[33], line 4\u001b[0m\n\u001b[0;32m      1\u001b[0m \u001b[38;5;66;03m# SupabaseVectorStore as a retriever\u001b[39;00m\n\u001b[0;32m      3\u001b[0m retriever \u001b[38;5;241m=\u001b[39m vector_store\u001b[38;5;241m.\u001b[39mas_retriever(search_type\u001b[38;5;241m=\u001b[39m\u001b[38;5;124m\"\u001b[39m\u001b[38;5;124mmmr\u001b[39m\u001b[38;5;124m\"\u001b[39m)\n\u001b[1;32m----> 4\u001b[0m matched_docs \u001b[38;5;241m=\u001b[39m \u001b[43mretriever\u001b[49m\u001b[38;5;241;43m.\u001b[39;49m\u001b[43minvoke\u001b[49m\u001b[43m(\u001b[49m\u001b[43mquery\u001b[49m\u001b[43m)\u001b[49m\n\u001b[0;32m      6\u001b[0m \u001b[38;5;28;01mfor\u001b[39;00m i, d \u001b[38;5;129;01min\u001b[39;00m \u001b[38;5;28menumerate\u001b[39m(matched_docs):\n\u001b[0;32m      7\u001b[0m     \u001b[38;5;28mprint\u001b[39m(\u001b[38;5;124mf\u001b[39m\u001b[38;5;124m\"\u001b[39m\u001b[38;5;130;01m\\n\u001b[39;00m\u001b[38;5;124m## Document \u001b[39m\u001b[38;5;132;01m{\u001b[39;00mi\u001b[38;5;132;01m}\u001b[39;00m\u001b[38;5;130;01m\\n\u001b[39;00m\u001b[38;5;124m\"\u001b[39m)\n",
            "File \u001b[1;32mc:\\Users\\LENOVO\\AppData\\Local\\Programs\\Python\\Python313\\Lib\\site-packages\\langchain_core\\retrievers.py:266\u001b[0m, in \u001b[0;36mBaseRetriever.invoke\u001b[1;34m(self, input, config, **kwargs)\u001b[0m\n\u001b[0;32m    264\u001b[0m \u001b[38;5;28;01mexcept\u001b[39;00m \u001b[38;5;167;01mException\u001b[39;00m \u001b[38;5;28;01mas\u001b[39;00m e:\n\u001b[0;32m    265\u001b[0m     run_manager\u001b[38;5;241m.\u001b[39mon_retriever_error(e)\n\u001b[1;32m--> 266\u001b[0m     \u001b[38;5;28;01mraise\u001b[39;00m e\n\u001b[0;32m    267\u001b[0m \u001b[38;5;28;01melse\u001b[39;00m:\n\u001b[0;32m    268\u001b[0m     run_manager\u001b[38;5;241m.\u001b[39mon_retriever_end(\n\u001b[0;32m    269\u001b[0m         result,\n\u001b[0;32m    270\u001b[0m     )\n",
            "File \u001b[1;32mc:\\Users\\LENOVO\\AppData\\Local\\Programs\\Python\\Python313\\Lib\\site-packages\\langchain_core\\retrievers.py:259\u001b[0m, in \u001b[0;36mBaseRetriever.invoke\u001b[1;34m(self, input, config, **kwargs)\u001b[0m\n\u001b[0;32m    257\u001b[0m _kwargs \u001b[38;5;241m=\u001b[39m kwargs \u001b[38;5;28;01mif\u001b[39;00m \u001b[38;5;28mself\u001b[39m\u001b[38;5;241m.\u001b[39m_expects_other_args \u001b[38;5;28;01melse\u001b[39;00m {}\n\u001b[0;32m    258\u001b[0m \u001b[38;5;28;01mif\u001b[39;00m \u001b[38;5;28mself\u001b[39m\u001b[38;5;241m.\u001b[39m_new_arg_supported:\n\u001b[1;32m--> 259\u001b[0m     result \u001b[38;5;241m=\u001b[39m \u001b[38;5;28;43mself\u001b[39;49m\u001b[38;5;241;43m.\u001b[39;49m\u001b[43m_get_relevant_documents\u001b[49m\u001b[43m(\u001b[49m\n\u001b[0;32m    260\u001b[0m \u001b[43m        \u001b[49m\u001b[38;5;28;43minput\u001b[39;49m\u001b[43m,\u001b[49m\u001b[43m \u001b[49m\u001b[43mrun_manager\u001b[49m\u001b[38;5;241;43m=\u001b[39;49m\u001b[43mrun_manager\u001b[49m\u001b[43m,\u001b[49m\u001b[43m \u001b[49m\u001b[38;5;241;43m*\u001b[39;49m\u001b[38;5;241;43m*\u001b[39;49m\u001b[43m_kwargs\u001b[49m\n\u001b[0;32m    261\u001b[0m \u001b[43m    \u001b[49m\u001b[43m)\u001b[49m\n\u001b[0;32m    262\u001b[0m \u001b[38;5;28;01melse\u001b[39;00m:\n\u001b[0;32m    263\u001b[0m     result \u001b[38;5;241m=\u001b[39m \u001b[38;5;28mself\u001b[39m\u001b[38;5;241m.\u001b[39m_get_relevant_documents(\u001b[38;5;28minput\u001b[39m, \u001b[38;5;241m*\u001b[39m\u001b[38;5;241m*\u001b[39m_kwargs)\n",
            "File \u001b[1;32mc:\\Users\\LENOVO\\AppData\\Local\\Programs\\Python\\Python313\\Lib\\site-packages\\langchain_core\\vectorstores\\base.py:1092\u001b[0m, in \u001b[0;36mVectorStoreRetriever._get_relevant_documents\u001b[1;34m(self, query, run_manager, **kwargs)\u001b[0m\n\u001b[0;32m   1090\u001b[0m     docs \u001b[38;5;241m=\u001b[39m [doc \u001b[38;5;28;01mfor\u001b[39;00m doc, _ \u001b[38;5;129;01min\u001b[39;00m docs_and_similarities]\n\u001b[0;32m   1091\u001b[0m \u001b[38;5;28;01melif\u001b[39;00m \u001b[38;5;28mself\u001b[39m\u001b[38;5;241m.\u001b[39msearch_type \u001b[38;5;241m==\u001b[39m \u001b[38;5;124m\"\u001b[39m\u001b[38;5;124mmmr\u001b[39m\u001b[38;5;124m\"\u001b[39m:\n\u001b[1;32m-> 1092\u001b[0m     docs \u001b[38;5;241m=\u001b[39m \u001b[38;5;28;43mself\u001b[39;49m\u001b[38;5;241;43m.\u001b[39;49m\u001b[43mvectorstore\u001b[49m\u001b[38;5;241;43m.\u001b[39;49m\u001b[43mmax_marginal_relevance_search\u001b[49m\u001b[43m(\u001b[49m\u001b[43mquery\u001b[49m\u001b[43m,\u001b[49m\u001b[43m \u001b[49m\u001b[38;5;241;43m*\u001b[39;49m\u001b[38;5;241;43m*\u001b[39;49m\u001b[43m_kwargs\u001b[49m\u001b[43m)\u001b[49m\n\u001b[0;32m   1093\u001b[0m \u001b[38;5;28;01melse\u001b[39;00m:\n\u001b[0;32m   1094\u001b[0m     msg \u001b[38;5;241m=\u001b[39m \u001b[38;5;124mf\u001b[39m\u001b[38;5;124m\"\u001b[39m\u001b[38;5;124msearch_type of \u001b[39m\u001b[38;5;132;01m{\u001b[39;00m\u001b[38;5;28mself\u001b[39m\u001b[38;5;241m.\u001b[39msearch_type\u001b[38;5;132;01m}\u001b[39;00m\u001b[38;5;124m not allowed.\u001b[39m\u001b[38;5;124m\"\u001b[39m\n",
            "File \u001b[1;32mc:\\Users\\LENOVO\\AppData\\Local\\Programs\\Python\\Python313\\Lib\\site-packages\\langchain_community\\vectorstores\\supabase.py:459\u001b[0m, in \u001b[0;36mSupabaseVectorStore.max_marginal_relevance_search\u001b[1;34m(self, query, k, fetch_k, lambda_mult, **kwargs)\u001b[0m\n\u001b[0;32m    409\u001b[0m \u001b[38;5;250m\u001b[39m\u001b[38;5;124;03m\"\"\"Return docs selected using the maximal marginal relevance.\u001b[39;00m\n\u001b[0;32m    410\u001b[0m \n\u001b[0;32m    411\u001b[0m \u001b[38;5;124;03mMaximal marginal relevance optimizes for similarity to query AND diversity\u001b[39;00m\n\u001b[1;32m   (...)\u001b[0m\n\u001b[0;32m    456\u001b[0m \u001b[38;5;124;03m```\u001b[39;00m\n\u001b[0;32m    457\u001b[0m \u001b[38;5;124;03m\"\"\"\u001b[39;00m\n\u001b[0;32m    458\u001b[0m embedding \u001b[38;5;241m=\u001b[39m \u001b[38;5;28mself\u001b[39m\u001b[38;5;241m.\u001b[39m_embedding\u001b[38;5;241m.\u001b[39membed_query(query)\n\u001b[1;32m--> 459\u001b[0m docs \u001b[38;5;241m=\u001b[39m \u001b[38;5;28;43mself\u001b[39;49m\u001b[38;5;241;43m.\u001b[39;49m\u001b[43mmax_marginal_relevance_search_by_vector\u001b[49m\u001b[43m(\u001b[49m\n\u001b[0;32m    460\u001b[0m \u001b[43m    \u001b[49m\u001b[43membedding\u001b[49m\u001b[43m,\u001b[49m\u001b[43m \u001b[49m\u001b[43mk\u001b[49m\u001b[43m,\u001b[49m\u001b[43m \u001b[49m\u001b[43mfetch_k\u001b[49m\u001b[43m,\u001b[49m\u001b[43m \u001b[49m\u001b[43mlambda_mult\u001b[49m\u001b[38;5;241;43m=\u001b[39;49m\u001b[43mlambda_mult\u001b[49m\n\u001b[0;32m    461\u001b[0m \u001b[43m\u001b[49m\u001b[43m)\u001b[49m\n\u001b[0;32m    462\u001b[0m \u001b[38;5;28;01mreturn\u001b[39;00m docs\n",
            "File \u001b[1;32mc:\\Users\\LENOVO\\AppData\\Local\\Programs\\Python\\Python313\\Lib\\site-packages\\langchain_community\\vectorstores\\supabase.py:390\u001b[0m, in \u001b[0;36mSupabaseVectorStore.max_marginal_relevance_search_by_vector\u001b[1;34m(self, embedding, k, fetch_k, lambda_mult, **kwargs)\u001b[0m\n\u001b[0;32m    387\u001b[0m matched_documents \u001b[38;5;241m=\u001b[39m [doc_tuple[\u001b[38;5;241m0\u001b[39m] \u001b[38;5;28;01mfor\u001b[39;00m doc_tuple \u001b[38;5;129;01min\u001b[39;00m result]\n\u001b[0;32m    388\u001b[0m matched_embeddings \u001b[38;5;241m=\u001b[39m [doc_tuple[\u001b[38;5;241m2\u001b[39m] \u001b[38;5;28;01mfor\u001b[39;00m doc_tuple \u001b[38;5;129;01min\u001b[39;00m result]\n\u001b[1;32m--> 390\u001b[0m mmr_selected \u001b[38;5;241m=\u001b[39m \u001b[43mmaximal_marginal_relevance\u001b[49m\u001b[43m(\u001b[49m\n\u001b[0;32m    391\u001b[0m \u001b[43m    \u001b[49m\u001b[43mnp\u001b[49m\u001b[38;5;241;43m.\u001b[39;49m\u001b[43marray\u001b[49m\u001b[43m(\u001b[49m\u001b[43m[\u001b[49m\u001b[43membedding\u001b[49m\u001b[43m]\u001b[49m\u001b[43m,\u001b[49m\u001b[43m \u001b[49m\u001b[43mdtype\u001b[49m\u001b[38;5;241;43m=\u001b[39;49m\u001b[43mnp\u001b[49m\u001b[38;5;241;43m.\u001b[39;49m\u001b[43mfloat32\u001b[49m\u001b[43m)\u001b[49m\u001b[43m,\u001b[49m\n\u001b[0;32m    392\u001b[0m \u001b[43m    \u001b[49m\u001b[43mmatched_embeddings\u001b[49m\u001b[43m,\u001b[49m\n\u001b[0;32m    393\u001b[0m \u001b[43m    \u001b[49m\u001b[43mk\u001b[49m\u001b[38;5;241;43m=\u001b[39;49m\u001b[43mk\u001b[49m\u001b[43m,\u001b[49m\n\u001b[0;32m    394\u001b[0m \u001b[43m    \u001b[49m\u001b[43mlambda_mult\u001b[49m\u001b[38;5;241;43m=\u001b[39;49m\u001b[43mlambda_mult\u001b[49m\u001b[43m,\u001b[49m\n\u001b[0;32m    395\u001b[0m \u001b[43m\u001b[49m\u001b[43m)\u001b[49m\n\u001b[0;32m    397\u001b[0m filtered_documents \u001b[38;5;241m=\u001b[39m [matched_documents[i] \u001b[38;5;28;01mfor\u001b[39;00m i \u001b[38;5;129;01min\u001b[39;00m mmr_selected]\n\u001b[0;32m    399\u001b[0m \u001b[38;5;28;01mreturn\u001b[39;00m filtered_documents\n",
            "File \u001b[1;32mc:\\Users\\LENOVO\\AppData\\Local\\Programs\\Python\\Python313\\Lib\\site-packages\\langchain_community\\vectorstores\\utils.py:34\u001b[0m, in \u001b[0;36mmaximal_marginal_relevance\u001b[1;34m(query_embedding, embedding_list, lambda_mult, k)\u001b[0m\n\u001b[0;32m     32\u001b[0m \u001b[38;5;28;01mif\u001b[39;00m query_embedding\u001b[38;5;241m.\u001b[39mndim \u001b[38;5;241m==\u001b[39m \u001b[38;5;241m1\u001b[39m:\n\u001b[0;32m     33\u001b[0m     query_embedding \u001b[38;5;241m=\u001b[39m np\u001b[38;5;241m.\u001b[39mexpand_dims(query_embedding, axis\u001b[38;5;241m=\u001b[39m\u001b[38;5;241m0\u001b[39m)\n\u001b[1;32m---> 34\u001b[0m similarity_to_query \u001b[38;5;241m=\u001b[39m \u001b[43mcosine_similarity\u001b[49m\u001b[43m(\u001b[49m\u001b[43mquery_embedding\u001b[49m\u001b[43m,\u001b[49m\u001b[43m \u001b[49m\u001b[43membedding_list\u001b[49m\u001b[43m)\u001b[49m[\u001b[38;5;241m0\u001b[39m]\n\u001b[0;32m     35\u001b[0m most_similar \u001b[38;5;241m=\u001b[39m \u001b[38;5;28mint\u001b[39m(np\u001b[38;5;241m.\u001b[39margmax(similarity_to_query))\n\u001b[0;32m     36\u001b[0m idxs \u001b[38;5;241m=\u001b[39m [most_similar]\n",
            "File \u001b[1;32mc:\\Users\\LENOVO\\AppData\\Local\\Programs\\Python\\Python313\\Lib\\site-packages\\langchain_community\\utils\\math.py:21\u001b[0m, in \u001b[0;36mcosine_similarity\u001b[1;34m(X, Y)\u001b[0m\n\u001b[0;32m     19\u001b[0m Y \u001b[38;5;241m=\u001b[39m np\u001b[38;5;241m.\u001b[39marray(Y)\n\u001b[0;32m     20\u001b[0m \u001b[38;5;28;01mif\u001b[39;00m X\u001b[38;5;241m.\u001b[39mshape[\u001b[38;5;241m1\u001b[39m] \u001b[38;5;241m!=\u001b[39m Y\u001b[38;5;241m.\u001b[39mshape[\u001b[38;5;241m1\u001b[39m]:\n\u001b[1;32m---> 21\u001b[0m     \u001b[38;5;28;01mraise\u001b[39;00m \u001b[38;5;167;01mValueError\u001b[39;00m(\n\u001b[0;32m     22\u001b[0m         \u001b[38;5;124mf\u001b[39m\u001b[38;5;124m\"\u001b[39m\u001b[38;5;124mNumber of columns in X and Y must be the same. X has shape \u001b[39m\u001b[38;5;132;01m{\u001b[39;00mX\u001b[38;5;241m.\u001b[39mshape\u001b[38;5;132;01m}\u001b[39;00m\u001b[38;5;124m \u001b[39m\u001b[38;5;124m\"\u001b[39m\n\u001b[0;32m     23\u001b[0m         \u001b[38;5;124mf\u001b[39m\u001b[38;5;124m\"\u001b[39m\u001b[38;5;124mand Y has shape \u001b[39m\u001b[38;5;132;01m{\u001b[39;00mY\u001b[38;5;241m.\u001b[39mshape\u001b[38;5;132;01m}\u001b[39;00m\u001b[38;5;124m.\u001b[39m\u001b[38;5;124m\"\u001b[39m\n\u001b[0;32m     24\u001b[0m     )\n\u001b[0;32m     25\u001b[0m \u001b[38;5;28;01mtry\u001b[39;00m:\n\u001b[0;32m     26\u001b[0m     \u001b[38;5;28;01mimport\u001b[39;00m \u001b[38;5;21;01msimsimd\u001b[39;00m \u001b[38;5;28;01mas\u001b[39;00m \u001b[38;5;21;01msimd\u001b[39;00m\n",
            "\u001b[1;31mValueError\u001b[0m: Number of columns in X and Y must be the same. X has shape (1, 384) and Y has shape (20, 0)."
          ]
        }
      ],
      "source": [
        "# SupabaseVectorStore as a retriever\n",
        "\n",
        "retriever = vector_store.as_retriever(search_type=\"mmr\")\n",
        "matched_docs = retriever.invoke(query)\n",
        "\n",
        "for i, d in enumerate(matched_docs):\n",
        "    print(f\"\\n## Document {i}\\n\")\n",
        "    print(d.page_content)"
      ]
    },
    {
      "cell_type": "code",
      "execution_count": null,
      "metadata": {
        "id": "rinvXq-Cdx4Y"
      },
      "outputs": [],
      "source": []
    }
  ],
  "metadata": {
    "kernelspec": {
      "display_name": "Python 3",
      "language": "python",
      "name": "python3"
    },
    "language_info": {
      "codemirror_mode": {
        "name": "ipython",
        "version": 3
      },
      "file_extension": ".py",
      "mimetype": "text/x-python",
      "name": "python",
      "nbconvert_exporter": "python",
      "pygments_lexer": "ipython3",
      "version": "3.13.1"
    },
    "colab": {
      "provenance": [],
      "include_colab_link": true
    }
  },
  "nbformat": 4,
  "nbformat_minor": 0
}