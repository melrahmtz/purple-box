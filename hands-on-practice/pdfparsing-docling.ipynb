{
  "nbformat": 4,
  "nbformat_minor": 0,
  "metadata": {
    "colab": {
      "provenance": [],
      "collapsed_sections": [
        "COC6YG0YQ_1d"
      ],
      "authorship_tag": "ABX9TyP6YPqxjaSM6Iw8wIkGXbuc",
      "include_colab_link": true
    },
    "kernelspec": {
      "name": "python3",
      "display_name": "Python 3"
    },
    "language_info": {
      "name": "python"
    }
  },
  "cells": [
    {
      "cell_type": "markdown",
      "metadata": {
        "id": "view-in-github",
        "colab_type": "text"
      },
      "source": [
        "<a href=\"https://colab.research.google.com/github/melrahmtz/purple-box/blob/main/hands-on-practice/pdfparsing-docling.ipynb\" target=\"_parent\"><img src=\"https://colab.research.google.com/assets/colab-badge.svg\" alt=\"Open In Colab\"/></a>"
      ]
    },
    {
      "cell_type": "code",
      "source": [
        "!pip install docling"
      ],
      "metadata": {
        "id": "Fl7jdWVts0eZ"
      },
      "execution_count": null,
      "outputs": []
    },
    {
      "cell_type": "markdown",
      "source": [
        "# Parsing"
      ],
      "metadata": {
        "id": "COC6YG0YQ_1d"
      }
    },
    {
      "cell_type": "code",
      "source": [
        "from docling.document_converter import DocumentConverter  # For PDF content extraction\n",
        "\n",
        "file_path = \"Manuale ROTOMARR.pdf\"\n",
        "\n",
        "converter = DocumentConverter()\n",
        "result = converter.convert(file_path)\n",
        "\n",
        "structured_content = result.document.export_to_markdown()\n",
        "print(structured_content)"
      ],
      "metadata": {
        "id": "SgGNcnmcnuyB",
        "colab": {
          "base_uri": "https://localhost:8080/"
        },
        "outputId": "7582a20c-f217-4bbb-d850-482bb1a2697d"
      },
      "execution_count": 2,
      "outputs": [
        {
          "output_type": "stream",
          "name": "stderr",
          "text": [
            "/usr/local/lib/python3.10/dist-packages/huggingface_hub/utils/_auth.py:94: UserWarning: \n",
            "The secret `HF_TOKEN` does not exist in your Colab secrets.\n",
            "To authenticate with the Hugging Face Hub, create a token in your settings tab (https://huggingface.co/settings/tokens), set it as secret in your Google Colab and restart your session.\n",
            "You will be able to reuse this secret in all of your notebooks.\n",
            "Please note that authentication is recommended but still optional to access public models or datasets.\n",
            "  warnings.warn(\n"
          ]
        },
        {
          "output_type": "stream",
          "name": "stdout",
          "text": [
            "<!-- image -->\n",
            "\n",
            "Revisione 00.00 - Febbraio 2015\n",
            "\n",
            "GIRACASTAGNE AUTOMATICO ROTOMARR\n",
            "\n",
            "<!-- image -->\n",
            "\n",
            "## 1. INFORMAZIONI SULLA SICUREZZA\n",
            "\n",
            "Il  presente  manuale  contiene  indicazioni  ed  informazioni fondamentali per il corretto utilizzo del GIRACASTAGNE AUTOMATICO (CUOCI CALDARROSTE) ROTOMARR .\n",
            "\n",
            "- -Leggere il manuale  nella sua completezza per comprendere l'utilizzo della macchina;\n",
            "- -Tenere questo manuale per future consultazioni in un luogo sicuro;\n",
            "- -Osservare le istruzioni indicate in questo manuale per garantire la sicurezza dell'utilizzatore;\n",
            "- -La non osservanza delle indicazioni elencate in questo manuale comporterà l'annullamento della garanzia;\n",
            "- -MECTRONICA S.r.l. non è responsabile per danni o lesioni causate dalla non osservanza delle informazioni elencate nel presente manuale.\n",
            "\n",
            "## 2. SPECIFICHE\n",
            "\n",
            "Il  GIRACASTAGNE  AUTOMATICO ROTOMARR entra in funzionamento grazie ad un alimentatore elettrico con le seguenti caratteristiche:\n",
            "\n",
            "Voltaggio di alimentazione:\n",
            "\n",
            "12 Volts DC\n",
            "\n",
            "Amperaggio:\n",
            "\n",
            "1 A\n",
            "\n",
            "Dimensione connessione:\n",
            "\n",
            "5,5*2,1mm DC Plug\n",
            "\n",
            "## 3. DESTINAZIONE D'USO E UTILIZZATORI\n",
            "\n",
            "<!-- image -->\n",
            "\n",
            "La  macchina  in  oggetto  è  destinata  ad  un pubblico  non  professionale,  ma  per  un utilizzatore domestico e quindi le attività di montaggio, assemblaggio, manutenzione, riparazione sono vietate in quanto l'utilizzatore finale non ha le capacità tecniche per portarle a termine. Sono  previste  e  ammesse  da  parte  dell'utilizzatore finale  solo  le  attività  di  regolazione  descritte  al\n",
            "\n",
            "successivo punto 4 .\n",
            "\n",
            "La  macchina  è  stata  progettata  per  la  cottura  su  fiamma delle  castagne  al  fine  di  produrre  'caldarroste'  e  va collocata  su  di  un  fornello  di  tipo  domestico  (diametro massimo:  70  cm)  .  La  macchina  infatti  dispone  di  un motorino elettrico che mette in rotazione il cestello entro il  quale sono inerite le castagne e ne garantisce la cottura uniforme.\n",
            "\n",
            "- È  tassativamente  proibito  utilizzare  nel  cestello  altro materiale che non siano castagne (materiali infiammabili o combustibili,  altri  alimenti,  materiali  tessili  o  plastici,  o comunque    materiali  che  possono  produrre  diossine mediante riscaldamento).\n",
            "\n",
            "È tassativamente proibito utilizzare la macchina in modo difforme  da  quanto  riportato  nel  manuale  di  uso  e manutenzione\n",
            "\n",
            "Non sono consentiti:\n",
            "\n",
            "- 1) l'utilizzo della  macchina  con  altro  materiale rispetto alle castagne,\n",
            "\n",
            "<!-- image -->\n",
            "\n",
            "## ROTOMARR\n",
            "\n",
            "- 2) l'utilizzo della macchina su fornelli di dimensioni superiori ai 70 cm di diametro\n",
            "- 3) il lavaggio della macchina in lavastoviglie\n",
            "- 4) il lavaggio  della  macchina  con  getto  d'acqua pieno\n",
            "- 5) l'apertura dei ripari o una qualsiasi manomissione della macchina\n",
            "- 6) l'utilizzo all'esterno in caso di cattive condizioni meteorologiche  (pioggia,  neve,  grandine,  vento forte)\n",
            "- 7) l'utilizzo  in  locali  con  pericolo  di  esplosione  o incendio  o  in  presenza  di  grandi  quantitativi  di materiale infiammabile\n",
            "\n",
            "## 3. REGOLAZIONE\n",
            "\n",
            "<!-- image -->\n",
            "\n",
            "Non  effettuare  nessuna  regolazione  senza prima aver letto e compreso tutte le istruzioni presenti su questo manuale.\n",
            "\n",
            "- 1. Assicurarsi  che  l'alimentatore  di  corrente  non  sia collegato all'apparecchio o alla corrente;\n",
            "- 2. Svitare  il  pomello  ( A )  in  senso  antiorario  in  maniera tale che il supporto ( B ) sia completamente lento.\n",
            "- 3. Regolare l'altezza  del  cestello  ( C )  a  circa  4-  5  cm  dal piano di cottura;\n",
            "- 4. Ruotare il  pomello  ( A )  in  senso  orario  fin  quando  la staffa di supporto ( D )  non è completamente fissata e stabile;\n",
            "- 5. Qualora  la  staffa  risultasse  instabile,  rimuovere  la griglia dal piano di cottura.\n",
            "\n",
            "<!-- image -->\n",
            "\n",
            "## 4. AVVIAMENTO\n",
            "\n",
            "<!-- image -->\n",
            "\n",
            "Prima  di  caricare  il  prodotto,  eseguire  una profonda incisione sulle castagne\\caldarroste\n",
            "\n",
            "per evitare scoppi che possono provocare danni.\n",
            "\n",
            "<!-- image -->\n",
            "\n",
            "Evitare  possibili  urti  all'apparecchio  che possano compromettere la corretta rotazione\n",
            "\n",
            "o il normale funzionamento.\n",
            "\n",
            "<!-- image -->\n",
            "\n",
            "<!-- image -->\n",
            "\n",
            "Utilizzare  l'apparecchio  solo  su  un  fornello  a gas dal diametro max. di 70mm.\n",
            "\n",
            "Non regolare l'altezza del cestello durante la cottura.\n",
            "\n",
            "- 1. Riempire  la  bocca  del  cestello  con  le  castagne  già incise  facendo  attenzione  che  siano  uniformemente distribuite nel cestello\n",
            "- 2. Collocare  l'apparecchio  sulla  griglia  del  piano  di cottura;\n",
            "\n",
            "<!-- image -->\n",
            "\n",
            "- 3. Collegare l'alimentatore di corrente nell'apposita presa ( 1 ) dell'apparecchio e poi collegare la spina dell'alimentatore  alla  presa  di  corrente.  In  questa operazione fare molta attenzione ad evitare che il cavo stazioni sopra o nelle vicinanze della fiamma al fine di evitare bruciature o surriscaldamenti dello stesso;\n",
            "- 4. Verificare  che  l'impianto  elettrico  cui  la  macchina  è collegata sia dotato di interruttore magnetotermico di adeguata corrente nominale e di interruttore differenziale con I ∆ n non superiore a 0,03 A\n",
            "- 5. Attivare  l'apparecchio  premendo  il  tasto  verde  ( 2 ), accertandosi che non ci sia nulla che possa compromettere  la  corretta  rotazione  o  che  oggetti esterni possano rimanere incastrati durante la normale rotazione;\n",
            "- 6. Accendere il fornello a fiamma massima; assicurarsi che il fondo del cestello sia ben centrato con la fiamma;\n",
            "\n",
            "<!-- image -->\n",
            "\n",
            "Non superare i 1200 gr. di prodotto all'interno del cestello.\n",
            "\n",
            "- cottura per altri 4 o 5 minuti. 7. Lasciare in cottura per circa 20 minuti. Qualora il prodotto non risulti ancora pronto, continuare la\n",
            "- 8. Spegnere l'apparecchio con il tasto nero ( 3 ) e attendere qualche secondo a fornello spento prima di rimuovere gli alimenti dal cestello;\n",
            "\n",
            "<!-- image -->\n",
            "\n",
            "- 9. Rimuovere il prodotto afferrando la barra orizzontale, che funge da maniglia ( 4 ).\n",
            "\n",
            "## 5. PULIZIA & MANUTENZIONE\n",
            "\n",
            "Al  termine  di  ogni  utilizzo,  staccare  la  spina  dal  muro  e rimuovere l'alimentatore elettrico ( 1 ).\n",
            "\n",
            "Prima di re-inscatolare l'apparecchio, attendere il raffreddamento del cestello.\n",
            "\n",
            "A raffreddamento  avvenuto,  rimuovere  l'apparecchio  dal piano cottura e strofinare con un panno umido il cestello, rimuovendo briciole o detriti rimasti al suo interno.\n",
            "\n",
            "Lavare solo la parte del cestello.\n",
            "\n",
            "Non  lavare  con  getto  d'acqua  piena  e  non  mettere  in lavastoviglie.\n",
            "\n",
            "L'apparecchio non necessita alcun tipo di manutenzione. Non  rimuovere  il  carter  di  chiusura  che  protegge  le componenti elettriche.\n",
            "\n",
            "## 6. RICAMBI\n",
            "\n",
            "Nelle  seguenti  pagine  saranno  indicate  a  disegno  le componenti meccaniche con i loro codici.\n",
            "\n",
            "Qualora  sia  necessario  ordinare  una  componente  per richiedere  un  ricambio,  è  necessario  indicare  quantità  e codice di riferimento.\n",
            "\n",
            "## 7. CONTATTI\n",
            "\n",
            "<!-- image -->\n",
            "\n",
            "Via Monari Sardè, 8\n",
            "\n",
            "40010 Bentivoglio (BO) Italia\n",
            "\n",
            "Tel. +39 0516641440 Fax. +39 0518909108\n",
            "\n",
            "E-mail. info@mectronica.it Web: www.mectronica.it\n",
            "\n",
            "P. IVA e C.F. 031228011206\n",
            "\n",
            "## 8. GARANZIA\n",
            "\n",
            "Le specifiche sono soggette a  modifiche senza  preavviso da parte del fabbricante.\n",
            "\n",
            "© Copyright 2015 MECTRONICA S.r.l.\n",
            "\n",
            "MECTRONICA  garantisce  la  conformità  dei  prodotti forniti.  La  garanzia  per  vizi  è  limitata  ai  soli  difetti  dei prodotti conseguenti a difetti di progettazione, di materiale o di costruzione riconducibili a MECTRONICA. La garanzia non comprende:\n",
            "\n",
            "- -  Avarie  o  danni  causati  dal  trasporto  o  da  anomalie dell'impianto elettrico ove viene utilizzato l'apparecchio, o difettosa installazione e/o qualsiasi utilizzo non adeguato e non espressivamente indicato nel manuale d'uso.\n",
            "- - Manomissione o danni causati dall'impiego di pezzi e/o ricambi non originali.\n",
            "- -Difetti  e/o  danni  causati  da  agenti  chimici  e/o atmosferici (es. umidità da esterno, ghiaccio, prodotti per pulizia corrosivi/chimici, ecc.).\n",
            "\n",
            "La garanzia ha una durata di 24 mesi decorrenti dalla data della  vendita.  La  garanzia  è  subordinata  all'espressa richiesta  scritta  a  MECTRONICA  tramite  raccomandata con ricevuta di ritorno.\n",
            "\n",
            "| 3ROTOMARR   | 3ROTOMARR          | GIRACASTAGNE AUTOMATICO ROTOMARR      | 1    |\n",
            "|-------------|--------------------|---------------------------------------|------|\n",
            "| Posizione   | Codice             | Descrizione                           | Q.tà |\n",
            "| 1           | 2ROTOMARR3         | BASE SUPPORTO ROTOMARR                | 1    |\n",
            "| 2           | 2ROTOMARR5         | SUPPORTO ROTOMARR                     | 1    |\n",
            "| 3           | 28018MAR0111B      | CARTER CHIUSURA                       | 1    |\n",
            "| 4           | 28018MAR0110       | PIASTRA MOTORIDUTTORE                 | 1    |\n",
            "| 5           | 2ROTOMARR1         | CESTELLO ROTOMARR                     | 1    |\n",
            "| 6           | 2MAR0111E          | ALBERO DI TRASMISSIONE                | 1    |\n",
            "| 7           | 2MAR0111D          | PROTEZIONE                            | 1    |\n",
            "| 8           | 2MAR0111C          | PIASTRA PLEXIGLASS 60/10              | 1    |\n",
            "| 9           | 106F1Z1000000010   | DADO ESAGONO B FEZIN M10 UNI 5589     | 2    |\n",
            "| 10          | 138H000006000002RS | CUSCINETTO                            | 2    |\n",
            "| 11          | 1680000BS138F12208 | MOTORIDUTTORE                         | 1    |\n",
            "| 12          | 131000320106030    | MANOPOLA                              | 1    |\n",
            "| 13          | 104FEZ10100040006  | GRANO PUNTA PIANA ZIN M4x6 UNI 5923   | 1    |\n",
            "| 14          | 114F1Z7010029006   | VITE AUT ZIN TCICr @ 2.9x6            | 3    |\n",
            "| 15          | 100F1Z1020003005   | VITE TCICr FE ZIN M3x5 UNI 7985       | 2    |\n",
            "| 16          | 101F1Z1000003015   | VITE TCICr FE ZIN M3x015 UNI 5739     | 1    |\n",
            "| 17          | 106F1Z1010000003   | DADO ESAGONO FEZIN M3 UNI 5588        | 1    |\n",
            "| 18          | 199A0CE00042060    | TARGHETTA CE ROTOMARR                 | 2    |\n",
            "| 19          | 129A000000000310   | RIVETTO AL 03x010                     | 1    |\n",
            "| 20          | 24040849679513     | ALIMENTATORE 12V DC PLUG 5.5*2.1mm 1A | 1    |\n",
            "\n",
            "<!-- image -->\n",
            "\n",
            "<!-- image -->\n"
          ]
        }
      ]
    },
    {
      "cell_type": "markdown",
      "source": [
        "# Image handling"
      ],
      "metadata": {
        "id": "sFyvGnNxQB2h"
      }
    },
    {
      "cell_type": "code",
      "source": [
        "import logging\n",
        "import time\n",
        "from pathlib import Path\n",
        "\n",
        "from docling_core.types.doc import ImageRefMode, PictureItem, TableItem\n",
        "from docling.datamodel.base_models import FigureElement, InputFormat, Table\n",
        "from docling.datamodel.pipeline_options import PdfPipelineOptions\n",
        "from docling.document_converter import DocumentConverter, PdfFormatOption"
      ],
      "metadata": {
        "id": "EWxyAVp5F7y5"
      },
      "execution_count": 3,
      "outputs": []
    },
    {
      "cell_type": "code",
      "source": [
        "_log = logging.getLogger(__name__)\n",
        "\n",
        "IMAGE_RESOLUTION_SCALE = 1.0\n",
        "\n",
        "# Important: For operating with page images, we must keep them, otherwise the DocumentConverter\n",
        "# will destroy them for cleaning up memory.\n",
        "# This is done by setting PdfPipelineOptions.images_scale, which also defines the scale of images.\n",
        "# scale=1 correspond of a standard 72 DPI image\n",
        "# The PdfPipelineOptions.generate_* are the selectors for the document elements which will be enriched\n",
        "# with the image field"
      ],
      "metadata": {
        "id": "9CTCg1j6LxQ_"
      },
      "execution_count": 4,
      "outputs": []
    },
    {
      "cell_type": "code",
      "source": [
        "def convert_page_into_image(conv_res, output_dir, doc_filename):\n",
        "    \"\"\"Converts each page of the document into an image and saves it.\"\"\"\n",
        "    for page_no, page in conv_res.document.pages.items():\n",
        "        page_no = page.page_no\n",
        "        page_image_filename = output_dir / f\"{doc_filename}-{page_no}.png\"\n",
        "        with page_image_filename.open(\"wb\") as fp:\n",
        "            page.image.pil_image.save(fp, format=\"PNG\")\n"
      ],
      "metadata": {
        "id": "Z9PMs4g1L1nn"
      },
      "execution_count": 5,
      "outputs": []
    },
    {
      "cell_type": "code",
      "source": [
        "def extract_images(conv_res, output_dir, doc_filename):\n",
        "    \"\"\"Extracts individual images (pictures) from the document and saves them.\"\"\"\n",
        "    picture_counter = 0\n",
        "    for element, _level in conv_res.document.iterate_items():\n",
        "        if isinstance(element, PictureItem):\n",
        "            picture_counter += 1\n",
        "            element_image_filename = (\n",
        "                output_dir / f\"{doc_filename}-picture-{picture_counter}.png\"\n",
        "            )\n",
        "            with element_image_filename.open(\"wb\") as fp:\n",
        "                element.get_image(conv_res.document).save(fp, \"PNG\")\n",
        "\n",
        "def extract_tables(conv_res, output_dir, doc_filename):\n",
        "    \"\"\"Extracts tables from the document and saves them as images.\"\"\"\n",
        "    table_counter = 0\n",
        "    for element, _level in conv_res.document.iterate_items():\n",
        "        if isinstance(element, TableItem):\n",
        "            table_counter += 1\n",
        "            element_image_filename = (\n",
        "                output_dir / f\"{doc_filename}-table-{table_counter}.png\"\n",
        "            )\n",
        "            with element_image_filename.open(\"wb\") as fp:\n",
        "                element.get_image(conv_res.document).save(fp, \"PNG\")"
      ],
      "metadata": {
        "id": "Uwxku10vL-dl"
      },
      "execution_count": 6,
      "outputs": []
    },
    {
      "source": [
        "def process_pdf(file_path):\n",
        "    \"\"\"Main function to process the PDF document.\"\"\"\n",
        "    logging.basicConfig(level=logging.DEBUG)\n",
        "\n",
        "    file_path = 'Brochure_PagoinRetePa.pdf'\n",
        "    output_dir = Path(\"scratch\")\n",
        "    output_dir.mkdir(parents=True, exist_ok=True)\n",
        "\n",
        "    pipeline_options = PdfPipelineOptions()\n",
        "    pipeline_options.images_scale = IMAGE_RESOLUTION_SCALE\n",
        "    pipeline_options.generate_page_images = True\n",
        "    pipeline_options.generate_picture_images = True\n",
        "\n",
        "    doc_converter = DocumentConverter(\n",
        "        format_options={\n",
        "            InputFormat.PDF: PdfFormatOption(pipeline_options=pipeline_options)\n",
        "        }\n",
        "    )\n",
        "\n",
        "    start_time = time.time()\n",
        "    conv_res = doc_converter.convert(file_path)\n",
        "    doc_filename = conv_res.input.file.stem\n",
        "\n",
        "    #convert_page_into_image(conv_res, output_dir, doc_filename)\n",
        "    extract_images(conv_res, output_dir, doc_filename)\n",
        "    extract_tables(conv_res, output_dir, doc_filename)\n",
        "\n",
        "    # Save markdown with embedded pictures\n",
        "    md_filename = output_dir / f\"{doc_filename}-with-images.md\"\n",
        "    conv_res.document.save_as_markdown(md_filename, image_mode=ImageRefMode.EMBEDDED)\n",
        "\n",
        "    # Save markdown with externally referenced pictures\n",
        "    md_filename = output_dir / f\"{doc_filename}-with-image-refs.md\"\n",
        "    conv_res.document.save_as_markdown(md_filename, image_mode=ImageRefMode.REFERENCED)\n",
        "\n",
        "    # Save HTML with externally referenced pictures\n",
        "    html_filename = output_dir / f\"{doc_filename}-with-image-refs.html\"\n",
        "    conv_res.document.save_as_html(html_filename, image_mode=ImageRefMode.REFERENCED)\n",
        "\n",
        "    end_time = time.time() - start_time\n",
        "    _log.info(f\"Document converted and figures exported in {end_time:.2f} seconds.\")\n"
      ],
      "cell_type": "code",
      "metadata": {
        "id": "02qNxaQ1MEfZ"
      },
      "execution_count": 7,
      "outputs": []
    },
    {
      "source": [
        "def process_pdf(file_path):\n",
        "    \"\"\"Main function to process the PDF document.\"\"\"\n",
        "    logging.basicConfig(level=logging.DEBUG)\n",
        "\n",
        "    file_path = 'Manuale ROTOMARR.pdf'\n",
        "    output_dir = Path(\"scratch\")\n",
        "    output_dir.mkdir(parents=True, exist_ok=True)\n",
        "\n",
        "    # Create a subfolder for this specific PDF file\n",
        "    pdf_subfolder = output_dir / Path(file_path).stem\n",
        "    pdf_subfolder.mkdir(parents=True, exist_ok=True)\n",
        "\n",
        "    pipeline_options = PdfPipelineOptions()\n",
        "    pipeline_options.images_scale = IMAGE_RESOLUTION_SCALE\n",
        "    pipeline_options.generate_page_images = True\n",
        "    pipeline_options.generate_picture_images = True\n",
        "\n",
        "    doc_converter = DocumentConverter(\n",
        "        format_options={\n",
        "            InputFormat.PDF: PdfFormatOption(pipeline_options=pipeline_options)\n",
        "        }\n",
        "    )\n",
        "\n",
        "    start_time = time.time()\n",
        "    conv_res = doc_converter.convert(file_path)\n",
        "    doc_filename = conv_res.input.file.stem\n",
        "\n",
        "    # Update the functions to save to the subfolder\n",
        "    extract_images(conv_res, pdf_subfolder, doc_filename)\n",
        "    extract_tables(conv_res, pdf_subfolder, doc_filename)\n",
        "\n",
        "    # Save outputs to the subfolder as well\n",
        "    md_filename = pdf_subfolder / f\"{doc_filename}-with-images.md\"\n",
        "    conv_res.document.save_as_markdown(md_filename, image_mode=ImageRefMode.EMBEDDED)\n",
        "\n",
        "    md_filename = pdf_subfolder / f\"{doc_filename}-with-image-refs.md\"\n",
        "    conv_res.document.save_as_markdown(md_filename, image_mode=ImageRefMode.REFERENCED)\n",
        "\n",
        "    html_filename = pdf_subfolder / f\"{doc_filename}-with-image-refs.html\"\n",
        "    conv_res.document.save_as_html(html_filename, image_mode=ImageRefMode.REFERENCED)\n",
        "\n",
        "    end_time = time.time() - start_time\n",
        "    _log.info(f\"Document converted and figures exported in {end_time:.2f} seconds.\")"
      ],
      "cell_type": "code",
      "metadata": {
        "id": "5dyxSRUqbs3m"
      },
      "execution_count": 10,
      "outputs": []
    },
    {
      "cell_type": "code",
      "source": [
        "# Example usage:\n",
        "process_pdf(file_path)"
      ],
      "metadata": {
        "id": "Ww8SVUalMz4x"
      },
      "execution_count": 11,
      "outputs": []
    },
    {
      "cell_type": "markdown",
      "source": [
        "# Delete 'scratch' folder"
      ],
      "metadata": {
        "id": "M-NN1V-fcH8I"
      }
    },
    {
      "source": [
        "import shutil\n",
        "import os\n",
        "\n",
        "def delete_folder(folder_path):\n",
        "    \"\"\"\n",
        "    Deletes a folder and its contents, even if it's not empty.\n",
        "\n",
        "    Args:\n",
        "        folder_path (str): The path to the folder you want to delete.\n",
        "    \"\"\"\n",
        "    try:\n",
        "        shutil.rmtree(folder_path)\n",
        "        print(f\"Folder '{folder_path}' deleted successfully.\")\n",
        "    except OSError as e:\n",
        "        print(f\"Error deleting folder: {e}\")\n",
        "\n",
        "# Example usage:\n",
        "folder_to_delete = \"/content/scratch\"  # Replace with the actual path\n",
        "delete_folder(folder_to_delete)"
      ],
      "cell_type": "code",
      "metadata": {
        "colab": {
          "base_uri": "https://localhost:8080/"
        },
        "id": "wQENmQIgb9l8",
        "outputId": "cdd4aef6-596a-45f6-aec1-0bc592a839c0"
      },
      "execution_count": 1,
      "outputs": [
        {
          "output_type": "stream",
          "name": "stdout",
          "text": [
            "Folder '/content/scratch' deleted successfully.\n"
          ]
        }
      ]
    },
    {
      "cell_type": "markdown",
      "source": [
        "# [Continue] Text Processing, Chunking, Embedding, LLM"
      ],
      "metadata": {
        "id": "GcwrgpL8fg5y"
      }
    },
    {
      "cell_type": "markdown",
      "source": [
        "# Raw messy codes, dont look ;)"
      ],
      "metadata": {
        "id": "_S1VwruiO_5W"
      }
    },
    {
      "cell_type": "code",
      "execution_count": null,
      "metadata": {
        "id": "tlSkvD1dZ9OE"
      },
      "outputs": [],
      "source": [
        "from typing import List\n",
        "from docling.document_converter import DocumentConverter  # For PDF content extraction\n",
        "#from langchain_ollama.llms import OllamaLLM  # Local LLM integration\n",
        "#from langchain.text_splitter import RecursiveCharacterTextSplitter  # For text chunking\n",
        "#from langchain_huggingface import HuggingFaceEmbeddings  # For text embeddings\n",
        "#from langchain_community.vectorstores import FAISS  # Vector database\n",
        "#from langchain.chains import RetrievalQA  # For question-answering pipeline\n",
        "#from langchain.prompts import PromptTemplate  # For customizing LLM prompts"
      ]
    },
    {
      "cell_type": "code",
      "source": [
        "def extract_pdf_content(file_path) -> str:\n",
        "    \"\"\"\n",
        "    Extract structured content from PDF using Docling library\n",
        "\n",
        "    Args:\n",
        "        file_path (str): Path to the PDF file\n",
        "\n",
        "    Returns:\n",
        "        str: Extracted content in markdown format\n",
        "    \"\"\"\n",
        "    converter = DocumentConverter()\n",
        "    result = converter.convert(file_path)\n",
        "    return result.document.export_to_markdown()"
      ],
      "metadata": {
        "id": "Dk0Riq_7mgIf"
      },
      "execution_count": null,
      "outputs": []
    },
    {
      "cell_type": "code",
      "source": [
        "def create_vector_store(texts: List[str]) -> FAISS:\n",
        "    \"\"\"\n",
        "    Create and initialize FAISS vector store using text embeddings\n",
        "\n",
        "    Args:\n",
        "        texts (List[str]): List of text chunks to be embedded\n",
        "\n",
        "    Returns:\n",
        "        FAISS: Initialized FAISS vector store containing embedded texts\n",
        "    \"\"\"\n",
        "    # Initialize sentence transformer model for text embeddings\n",
        "    embeddings = HuggingFaceEmbeddings(\n",
        "        model_name=\"sentence-transformers/all-MiniLM-L12-v2\"\n",
        "    )\n",
        "    vector_store = FAISS.from_texts(texts, embeddings)\n",
        "    return vector_store"
      ],
      "metadata": {
        "id": "Nq1d9kkCml__"
      },
      "execution_count": null,
      "outputs": []
    }
  ]
}